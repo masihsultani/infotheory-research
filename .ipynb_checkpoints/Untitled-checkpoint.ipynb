{
 "cells": [
  {
   "cell_type": "code",
   "execution_count": 4,
   "metadata": {},
   "outputs": [
    {
     "ename": "KeyboardInterrupt",
     "evalue": "",
     "output_type": "error",
     "traceback": [
      "\u001b[0;31m---------------------------------------------------------------------------\u001b[0m",
      "\u001b[0;31mKeyboardInterrupt\u001b[0m                         Traceback (most recent call last)",
      "\u001b[0;32m<ipython-input-4-afad75435ea2>\u001b[0m in \u001b[0;36m<module>\u001b[0;34m\u001b[0m\n\u001b[1;32m     10\u001b[0m \u001b[0;32mwith\u001b[0m \u001b[0mopen\u001b[0m\u001b[0;34m(\u001b[0m\u001b[0mfile_\u001b[0m\u001b[0;34m,\u001b[0m \u001b[0;34m'r'\u001b[0m\u001b[0;34m,\u001b[0m \u001b[0mencoding\u001b[0m\u001b[0;34m=\u001b[0m\u001b[0;34m\"utf-8\"\u001b[0m\u001b[0;34m)\u001b[0m \u001b[0;32mas\u001b[0m \u001b[0mfile_1\u001b[0m\u001b[0;34m:\u001b[0m\u001b[0;34m\u001b[0m\u001b[0;34m\u001b[0m\u001b[0m\n\u001b[1;32m     11\u001b[0m             \u001b[0mreader\u001b[0m \u001b[0;34m=\u001b[0m \u001b[0mcsv\u001b[0m\u001b[0;34m.\u001b[0m\u001b[0mreader\u001b[0m\u001b[0;34m(\u001b[0m\u001b[0mfile_1\u001b[0m\u001b[0;34m,\u001b[0m \u001b[0mdelimiter\u001b[0m\u001b[0;34m=\u001b[0m\u001b[0;34m\"\\t\"\u001b[0m\u001b[0;34m)\u001b[0m\u001b[0;34m\u001b[0m\u001b[0;34m\u001b[0m\u001b[0m\n\u001b[0;32m---> 12\u001b[0;31m             \u001b[0;32mfor\u001b[0m \u001b[0mrow\u001b[0m \u001b[0;32min\u001b[0m \u001b[0mreader\u001b[0m\u001b[0;34m:\u001b[0m\u001b[0;34m\u001b[0m\u001b[0;34m\u001b[0m\u001b[0m\n\u001b[0m\u001b[1;32m     13\u001b[0m                 \u001b[0mtemp_gram_lst\u001b[0m \u001b[0;34m=\u001b[0m \u001b[0mrow\u001b[0m\u001b[0;34m[\u001b[0m\u001b[0;36m0\u001b[0m\u001b[0;34m]\u001b[0m\u001b[0;34m.\u001b[0m\u001b[0msplit\u001b[0m\u001b[0;34m(\u001b[0m\u001b[0;34m' '\u001b[0m\u001b[0;34m)\u001b[0m\u001b[0;34m\u001b[0m\u001b[0;34m\u001b[0m\u001b[0m\n\u001b[1;32m     14\u001b[0m                 \u001b[0;32mif\u001b[0m \u001b[0mtemp_gram_lst\u001b[0m\u001b[0;34m[\u001b[0m\u001b[0;36m2\u001b[0m\u001b[0;34m]\u001b[0m \u001b[0;32min\u001b[0m \u001b[0mwords\u001b[0m\u001b[0;34m:\u001b[0m\u001b[0;34m\u001b[0m\u001b[0;34m\u001b[0m\u001b[0m\n",
      "\u001b[0;31mKeyboardInterrupt\u001b[0m: "
     ]
    }
   ],
   "source": [
    "import csv\n",
    "from collections import defaultdict\n",
    "from ast import literal_eval\n",
    "trigram_dict = defaultdict(int)\n",
    "context_count = defaultdict(int)\n",
    "words ={'exam','examination'}\n",
    "context_set ={}\n",
    "file_ =\"/hal9000/masih/surprisal/native/trigram_native_True_127.csv\"\n",
    "file2 =\"/hal9000/masih/surprisal/native/bigram_native_True_127.csv\"\n",
    "with open(file_, 'r', encoding=\"utf-8\") as file_1:\n",
    "            reader = csv.reader(file_1, delimiter=\"\\t\")\n",
    "            for row in reader:\n",
    "                temp_gram_lst = row[0].split(' ')\n",
    "                if temp_gram_lst[2] in words:\n",
    "                    trigram_dict[row[0]] = literal_eval(row[1])\n",
    "                    bigram = \" \".join(x for x in temp_gram_lst[:2])\n",
    "                    context_set.add(bigram)\n",
    "print('trigram_ done')\n",
    "                    \n",
    "with open(file2, 'r', encoding=\"utf-8\") as file_1:\n",
    "            reader = csv.reader(file_1, delimiter=\"\\t\")\n",
    "            for row in reader:\n",
    "                if row[0] in context:\n",
    "                    context_count[row[0]] = literal_eval(row[1])\n",
    "print('bigram_ done')\n",
    "sorted_x = sorted(trigram_dict.items(), key=lambda kv: kv[1], reverse=True)\n",
    "out_file = '/hal9000/masih/surprisal/native/'  \n",
    "for word in words:\n",
    "    with open(f'{out_file}{word}.csv','w') as csvout:\n",
    "                csvreader = csv.writer(csvout)\n",
    "                for x in sorted_x:\n",
    "                    if word in x[0]:\n",
    "                        tri = x[0]\n",
    "                        c_count = context_count[' '.join(i for i in tri.split(' ')[:2])]\n",
    "                        csvreader.writerow([f\"{tri}\",x[1],c_count])\n",
    "csvout.close()\n",
    "\n",
    "print('all_done')\n",
    "                    \n",
    "                    \n",
    "                \n",
    "                "
   ]
  },
  {
   "cell_type": "code",
   "execution_count": 1,
   "metadata": {},
   "outputs": [],
   "source": [
    "x=5\n"
   ]
  },
  {
   "cell_type": "code",
   "execution_count": null,
   "metadata": {},
   "outputs": [],
   "source": []
  }
 ],
 "metadata": {
  "kernelspec": {
   "display_name": "Python 3",
   "language": "python",
   "name": "python3"
  },
  "language_info": {
   "codemirror_mode": {
    "name": "ipython",
    "version": 3
   },
   "file_extension": ".py",
   "mimetype": "text/x-python",
   "name": "python",
   "nbconvert_exporter": "python",
   "pygments_lexer": "ipython3",
   "version": "3.6.7"
  }
 },
 "nbformat": 4,
 "nbformat_minor": 2
}
